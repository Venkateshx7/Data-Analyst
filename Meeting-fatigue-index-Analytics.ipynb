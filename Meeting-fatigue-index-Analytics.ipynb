{
  "nbformat": 4,
  "nbformat_minor": 0,
  "metadata": {
    "colab": {
      "provenance": [],
      "authorship_tag": "ABX9TyPOriJwb26+KHUBU50Wmyo3",
      "include_colab_link": true
    },
    "kernelspec": {
      "name": "python3",
      "display_name": "Python 3"
    },
    "language_info": {
      "name": "python"
    }
  },
  "cells": [
    {
      "cell_type": "markdown",
      "metadata": {
        "id": "view-in-github",
        "colab_type": "text"
      },
      "source": [
        "<a href=\"https://colab.research.google.com/github/Venkateshx7/Data-Analyst/blob/main/Meeting-fatigue-index-Analytics.ipynb\" target=\"_parent\"><img src=\"https://colab.research.google.com/assets/colab-badge.svg\" alt=\"Open In Colab\"/></a>"
      ]
    },
    {
      "cell_type": "code",
      "execution_count": 1,
      "metadata": {
        "colab": {
          "base_uri": "https://localhost:8080/"
        },
        "id": "FodGc3HGTxGh",
        "outputId": "8c0cb8a5-83a0-42d5-e3f6-0bdd42518757"
      },
      "outputs": [
        {
          "output_type": "stream",
          "name": "stdout",
          "text": [
            "✅ Dataset created: meeting_fatigue_data.csv\n"
          ]
        }
      ],
      "source": [
        "import random\n",
        "import pandas as pd\n",
        "from datetime import datetime, timedelta\n",
        "\n",
        "# Define employees and date range\n",
        "employees = [f\"emp_{i+1}\" for i in range(10)]\n",
        "start_date = datetime(2025, 5, 20)\n",
        "\n",
        "data = []\n",
        "\n",
        "for day in range(7):  # Simulate 1 week\n",
        "    date = start_date + timedelta(days=day)\n",
        "    for emp in employees:\n",
        "        meeting_count = random.randint(3, 7)\n",
        "        meeting_start = datetime(date.year, date.month, date.day, 9)\n",
        "\n",
        "        for _ in range(meeting_count):\n",
        "            duration = random.choice([15, 30, 45, 60])\n",
        "            end_time = meeting_start + timedelta(minutes=duration)\n",
        "            data.append({\n",
        "                \"Employee\": emp,\n",
        "                \"Date\": date.strftime('%Y-%m-%d'),\n",
        "                \"StartTime\": meeting_start.strftime('%H:%M'),\n",
        "                \"EndTime\": end_time.strftime('%H:%M'),\n",
        "                \"Duration_Min\": duration\n",
        "            })\n",
        "            meeting_start = end_time + timedelta(minutes=random.randint(10, 30))\n",
        "\n",
        "# Save to CSV\n",
        "df = pd.DataFrame(data)\n",
        "df.to_csv(\"meeting_fatigue_data.csv\", index=False)\n",
        "print(\"✅ Dataset created: meeting_fatigue_data.csv\")\n"
      ]
    }
  ]
}